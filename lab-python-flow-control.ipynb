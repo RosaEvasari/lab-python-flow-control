{
 "cells": [
  {
   "cell_type": "markdown",
   "id": "d3bfc191-8885-42ee-b0a0-bbab867c6f9f",
   "metadata": {
    "tags": []
   },
   "source": [
    "# Lab | Flow Control"
   ]
  },
  {
   "cell_type": "markdown",
   "id": "3851fcd1-cf98-4653-9c89-e003b7ec9400",
   "metadata": {},
   "source": [
    "## Exercise: Managing Customer Orders Optimized\n",
    "\n",
    "In the last lab, you were starting an online store that sells various products. To ensure smooth operations, you developed a program that manages customer orders and inventory.\n",
    "\n",
    "You did so without using flow control. Let's go a step further and improve this code.\n",
    "\n",
    "Follow the steps below to complete the exercise:\n",
    "\n",
    "1. Look at your code from the lab data structures, and improve repeated code with loops.\n",
    "\n",
    "2. Instead of asking the user to input the name of three products that a customer wants to order, do the following:\n",
    "    \n",
    "    a. Prompt the user to enter the name of a product that a customer wants to order.\n",
    "    \n",
    "    b. Add the product name to the \"customer_orders\" set.\n",
    "    \n",
    "    c. Ask the user if they want to add another product (yes/no).\n",
    "    \n",
    "    d. Continue the loop until the user does not want to add another product.\n",
    "\n",
    "3. Instead of updating the inventory by subtracting 1 from the quantity of each product, only do it for  the products that were ordered (those in \"customer_orders\")."
   ]
  },
  {
   "cell_type": "code",
   "execution_count": 3,
   "id": "95da46f0",
   "metadata": {},
   "outputs": [
    {
     "name": "stdout",
     "output_type": "stream",
     "text": [
      "{'t-shirt': 10, 'mug': 5, 'hat': 8, 'book': 2, 'keychain': 20}\n"
     ]
    }
   ],
   "source": [
    "# Look at your code from the lab data structures and improve repeated code with loops\n",
    "\n",
    "# Define a list \n",
    "products = [\"t-shirt\", \"mug\", \"hat\", \"book\", \"keychain\"]\n",
    "\n",
    "# Create an empty dictionary\n",
    "inventory = {}\n",
    "\n",
    "# Prompt the user to enter the quantity of each product avaiable in the inventory\n",
    "for i in products:\n",
    "    Quantity_of_each_product = int(input(f\"Enter the quantity of {i} in the inventory: \"))\n",
    "    inventory[i] = Quantity_of_each_product\n",
    "\n",
    "print(inventory)    "
   ]
  },
  {
   "cell_type": "code",
   "execution_count": 5,
   "id": "b469775a",
   "metadata": {},
   "outputs": [
    {
     "name": "stdout",
     "output_type": "stream",
     "text": [
      "{'book', 'hat', 'mug'}\n"
     ]
    }
   ],
   "source": [
    "# Create an empty set \n",
    "customer_orders = set()\n",
    "\n",
    "# Prompt the user to input the name of three products that a customer wants to order\n",
    "\n",
    "for i in range(3):\n",
    "    products_input = input(\"Enter the name of product that a customer wants to order: \")\n",
    "    customer_orders.add(products_input)\n",
    "\n",
    "print(customer_orders)"
   ]
  },
  {
   "cell_type": "code",
   "execution_count": 6,
   "id": "095795f8",
   "metadata": {},
   "outputs": [
    {
     "name": "stdout",
     "output_type": "stream",
     "text": [
      "15\n"
     ]
    }
   ],
   "source": [
    "# Calculate total products ordered\n",
    "products_ordered = []\n",
    "\n",
    "for i in customer_orders:\n",
    "    if i in inventory:\n",
    "        value = inventory.get(i)\n",
    "    products_ordered.append(value)\n",
    "\n",
    "Total_products_ordered = sum(products_ordered)\n",
    "\n",
    "print(Total_products_ordered)"
   ]
  },
  {
   "cell_type": "code",
   "execution_count": 7,
   "id": "3545c310",
   "metadata": {},
   "outputs": [
    {
     "name": "stdout",
     "output_type": "stream",
     "text": [
      "{'t-shirt': 9, 'mug': 4, 'hat': 7, 'book': 1, 'keychain': 19}\n"
     ]
    }
   ],
   "source": [
    "# Update the inventory by substracting 1 from the quantity of each product.\n",
    "\n",
    "for i in inventory:\n",
    "   inventory[i] -= 1\n",
    "    \n",
    "print(inventory)"
   ]
  },
  {
   "cell_type": "code",
   "execution_count": 8,
   "id": "a32dfd64",
   "metadata": {},
   "outputs": [
    {
     "name": "stdout",
     "output_type": "stream",
     "text": [
      "Thank you for your order!\n",
      "{'keychain', 'mug'}\n"
     ]
    }
   ],
   "source": [
    "# Prompt the user to enter the name of a product that a customer wants to order\n",
    "# Add the product name to the \"customer_orders\" set\n",
    " \n",
    "customer_orders = set()\n",
    "\n",
    "continue_loop = True\n",
    "\n",
    "while continue_loop:\n",
    "    user_input = input(\"Enter a product that you want to order: \")\n",
    "    customer_orders.add(user_input)\n",
    "    \n",
    "    answer = input(\"Do you want to order something else?\").lower().strip()\n",
    "    \n",
    "    if answer == 'no':\n",
    "        continue_loop = False\n",
    "        print(\"Thank you for your order!\")\n",
    "\n",
    "\n",
    "print(customer_orders)\n",
    "\n"
   ]
  },
  {
   "cell_type": "code",
   "execution_count": 9,
   "id": "b47f8d7f",
   "metadata": {},
   "outputs": [
    {
     "name": "stdout",
     "output_type": "stream",
     "text": [
      "{'t-shirt': 9, 'mug': 3, 'hat': 7, 'book': 1, 'keychain': 18}\n"
     ]
    }
   ],
   "source": [
    "# Substract 1 from the quantity of each product that was ordered \n",
    "\n",
    "for i in customer_orders:\n",
    "    if i in inventory:\n",
    "        inventory[i] -= 1\n",
    "\n",
    "print(inventory)"
   ]
  },
  {
   "cell_type": "code",
   "execution_count": null,
   "id": "e4592b8c",
   "metadata": {},
   "outputs": [],
   "source": []
  }
 ],
 "metadata": {
  "kernelspec": {
   "display_name": "Python 3 (ipykernel)",
   "language": "python",
   "name": "python3"
  },
  "language_info": {
   "codemirror_mode": {
    "name": "ipython",
    "version": 3
   },
   "file_extension": ".py",
   "mimetype": "text/x-python",
   "name": "python",
   "nbconvert_exporter": "python",
   "pygments_lexer": "ipython3",
   "version": "3.11.7"
  }
 },
 "nbformat": 4,
 "nbformat_minor": 5
}
